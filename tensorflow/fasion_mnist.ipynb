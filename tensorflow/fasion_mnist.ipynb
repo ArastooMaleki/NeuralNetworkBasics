{
  "nbformat": 4,
  "nbformat_minor": 0,
  "metadata": {
    "colab": {
      "provenance": []
    },
    "kernelspec": {
      "name": "python3",
      "display_name": "Python 3"
    },
    "language_info": {
      "name": "python"
    }
  },
  "cells": [
    {
      "cell_type": "code",
      "execution_count": 1,
      "metadata": {
        "id": "Fr91L0s8fsNB"
      },
      "outputs": [],
      "source": [
        "import numpy as np\n",
        "import matplotlib.pyplot as plt\n",
        "import tensorflow as tf"
      ]
    },
    {
      "cell_type": "code",
      "source": [
        "from tensorflow.keras.datasets import fashion_mnist"
      ],
      "metadata": {
        "id": "SI8RfruBf9ng"
      },
      "execution_count": 3,
      "outputs": []
    },
    {
      "cell_type": "code",
      "source": [
        "(X_train , y_train) , (X_test , y_test) = fashion_mnist.load_data()"
      ],
      "metadata": {
        "id": "9s7B2vwrgEbV"
      },
      "execution_count": 6,
      "outputs": []
    },
    {
      "cell_type": "code",
      "source": [
        "print(X_train.shape , y_train.shape ,X_test.shape , y_test.shape, sep =\"\\n\" )"
      ],
      "metadata": {
        "colab": {
          "base_uri": "https://localhost:8080/"
        },
        "id": "COk39GOXgT1M",
        "outputId": "c8613185-20e6-4065-8e17-9de65c7d5b47"
      },
      "execution_count": 11,
      "outputs": [
        {
          "output_type": "stream",
          "name": "stdout",
          "text": [
            "(60000, 28, 28)\n",
            "(60000,)\n",
            "(10000, 28, 28)\n",
            "(10000,)\n"
          ]
        }
      ]
    },
    {
      "cell_type": "code",
      "source": [
        "model = tf.keras.Sequential([\n",
        "    tf.keras.layers.Flatten(),\n",
        "    tf.keras.layers.Normalization(),\n",
        "    tf.keras.layers.Dense(3,activation=\"tanh\"),\n",
        "    tf.keras.layers.Dense(10)\n",
        "])"
      ],
      "metadata": {
        "id": "Dtjh7F5wgepR"
      },
      "execution_count": 31,
      "outputs": []
    },
    {
      "cell_type": "code",
      "source": [
        "model.compile(optimizer=tf.compat.v1.train.GradientDescentOptimizer(learning_rate=0.005) , loss = tf.keras.losses.SparseCategoricalCrossentropy(),metrics=[\"accuracy\"])"
      ],
      "metadata": {
        "id": "_6KOq8yniHpa"
      },
      "execution_count": 40,
      "outputs": []
    },
    {
      "cell_type": "code",
      "source": [
        "model.fit(X_train ,y_train,epochs=5)"
      ],
      "metadata": {
        "colab": {
          "base_uri": "https://localhost:8080/"
        },
        "id": "WHzmkVzTjBzR",
        "outputId": "9af7099f-5e07-4045-bbe5-14612f076c7a"
      },
      "execution_count": 41,
      "outputs": [
        {
          "output_type": "stream",
          "name": "stdout",
          "text": [
            "Epoch 1/5\n",
            "1875/1875 [==============================] - 3s 2ms/step - loss: 2.3030 - accuracy: 0.1000\n",
            "Epoch 2/5\n",
            "1875/1875 [==============================] - 3s 2ms/step - loss: 2.3030 - accuracy: 0.1000\n",
            "Epoch 3/5\n",
            "1875/1875 [==============================] - 3s 2ms/step - loss: 2.3030 - accuracy: 0.1000\n",
            "Epoch 4/5\n",
            "1875/1875 [==============================] - 4s 2ms/step - loss: 2.3030 - accuracy: 0.1000\n",
            "Epoch 5/5\n",
            "1875/1875 [==============================] - 3s 2ms/step - loss: 2.3030 - accuracy: 0.1000\n"
          ]
        },
        {
          "output_type": "execute_result",
          "data": {
            "text/plain": [
              "<keras.src.callbacks.History at 0x7a4ee2ee0c10>"
            ]
          },
          "metadata": {},
          "execution_count": 41
        }
      ]
    },
    {
      "cell_type": "code",
      "source": [
        "a = model.predict(X_test)"
      ],
      "metadata": {
        "colab": {
          "base_uri": "https://localhost:8080/"
        },
        "id": "O0zxlGkljF_L",
        "outputId": "7e44e352-19d6-4a72-e2c6-8a48ddda8dc4"
      },
      "execution_count": 42,
      "outputs": [
        {
          "output_type": "stream",
          "name": "stdout",
          "text": [
            "313/313 [==============================] - 0s 1ms/step\n"
          ]
        }
      ]
    },
    {
      "cell_type": "code",
      "source": [
        "a"
      ],
      "metadata": {
        "colab": {
          "base_uri": "https://localhost:8080/"
        },
        "id": "ubLhUQi7jtMv",
        "outputId": "4fe14aab-6ce7-4664-eb52-ad51d2e27c92"
      },
      "execution_count": 43,
      "outputs": [
        {
          "output_type": "execute_result",
          "data": {
            "text/plain": [
              "array([[-0.8236228 , -1.0351614 , -0.5241373 , ..., -0.00852543,\n",
              "        -0.14857374, -0.10248503],\n",
              "       [-0.8236228 , -1.0351614 , -0.5241373 , ..., -0.00852543,\n",
              "        -0.14857374, -0.10248503],\n",
              "       [-0.8236228 , -1.0351614 , -0.5241373 , ..., -0.00852543,\n",
              "        -0.14857374, -0.10248503],\n",
              "       ...,\n",
              "       [-0.8236228 , -1.0351614 , -0.5241373 , ..., -0.00852543,\n",
              "        -0.14857374, -0.10248503],\n",
              "       [-0.8236228 , -1.0351614 , -0.5241373 , ..., -0.00852543,\n",
              "        -0.14857374, -0.10248503],\n",
              "       [-0.8236228 , -1.0351614 , -0.5241373 , ..., -0.00852543,\n",
              "        -0.14857374, -0.10248503]], dtype=float32)"
            ]
          },
          "metadata": {},
          "execution_count": 43
        }
      ]
    },
    {
      "cell_type": "code",
      "source": [
        "model.predict(X_test)"
      ],
      "metadata": {
        "colab": {
          "base_uri": "https://localhost:8080/"
        },
        "id": "r-sEGfYdj-xD",
        "outputId": "5ac9b8ce-8e0e-40f1-b234-1bf1a7011236"
      },
      "execution_count": 28,
      "outputs": [
        {
          "output_type": "stream",
          "name": "stdout",
          "text": [
            "313/313 [==============================] - 1s 1ms/step\n"
          ]
        },
        {
          "output_type": "execute_result",
          "data": {
            "text/plain": [
              "array([[0.11421367, 0.08751999, 0.3487643 , ..., 0.95534873, 0.5411367 ,\n",
              "        0.9532252 ],\n",
              "       [0.40005818, 0.20122752, 0.8582874 , ..., 0.19125965, 0.85962296,\n",
              "        0.2653201 ],\n",
              "       [0.9102834 , 0.9155665 , 0.4996528 , ..., 0.04783233, 0.41268763,\n",
              "        0.04863314],\n",
              "       ...,\n",
              "       [0.9102834 , 0.9155665 , 0.4996528 , ..., 0.04783233, 0.41268763,\n",
              "        0.04863314],\n",
              "       [0.9102834 , 0.9155665 , 0.4996528 , ..., 0.04783233, 0.41268763,\n",
              "        0.04863314],\n",
              "       [0.11421367, 0.08751999, 0.3487643 , ..., 0.95534873, 0.5411367 ,\n",
              "        0.9532252 ]], dtype=float32)"
            ]
          },
          "metadata": {},
          "execution_count": 28
        }
      ]
    }
  ]
}