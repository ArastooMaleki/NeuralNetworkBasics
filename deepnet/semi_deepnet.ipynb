{
  "cells": [
    {
      "cell_type": "markdown",
      "metadata": {},
      "source": [
        "# modellin : creating and not trainign"
      ]
    },
    {
      "cell_type": "code",
      "execution_count": 1,
      "metadata": {
        "id": "na1f-vhcPEcu"
      },
      "outputs": [],
      "source": [
        "import numpy as np\n",
        "import matplotlib.pyplot as plt\n",
        "import h5py\n",
        "from testCases_v4a import *\n",
        "#np.random.seed(1)"
      ]
    },
    {
      "cell_type": "code",
      "execution_count": 2,
      "metadata": {
        "id": "FBaiaTafPx2M"
      },
      "outputs": [],
      "source": [
        "def initialize_parameters_deep(dims):\n",
        "  L = len(dims)\n",
        "  param = {}\n",
        "  #np.random.seed(1)\n",
        "  for l in range(1,L):\n",
        "    param[\"W\"+str(l)] = np.random.randn(dims[l],dims[l-1]) / np.sqrt(dims[l-1])# *0.25\n",
        "    param[\"b\"+str(l)] = np.zeros((dims[l],1))\n",
        "    \n",
        "    assert(param[\"W\"+str(l)].shape == (dims[l],dims[l-1]))\n",
        "    assert(param[\"b\"+str(l)].shape == (dims[l],1) )\n",
        "\n",
        "  return param"
      ]
    },
    {
      "cell_type": "code",
      "execution_count": 3,
      "metadata": {
        "colab": {
          "base_uri": "https://localhost:8080/"
        },
        "id": "SxeYxDiqSBPy",
        "outputId": "083303fb-8ef5-4413-f805-bee39da12102"
      },
      "outputs": [
        {
          "name": "stdout",
          "output_type": "stream",
          "text": [
            "W1 = [[ 0.70283725 -0.39781173  0.1568277   0.17741739  0.4286787 ]\n",
            " [ 0.0664099  -0.6541273   0.55545104  0.97620163  0.04522636]\n",
            " [ 0.00208415 -0.11465159  0.16447382 -0.57177977 -0.26879908]\n",
            " [ 0.07230073 -0.61012281  0.59773316  0.46669025 -0.07378312]]\n",
            "b1 = [[0.]\n",
            " [0.]\n",
            " [0.]\n",
            " [0.]]\n",
            "W2 = [[-0.40905339  0.62891384  0.10043102 -0.16022318]\n",
            " [-0.30229074  0.26197747  0.17408206 -0.69992401]\n",
            " [ 0.25240957  0.31178319 -0.56017809  0.48264223]]\n",
            "b2 = [[0.]\n",
            " [0.]\n",
            " [0.]]\n"
          ]
        }
      ],
      "source": [
        "parameters = initialize_parameters_deep([5,4,3])\n",
        "print(\"W1 = \" + str(parameters[\"W1\"]))\n",
        "print(\"b1 = \" + str(parameters[\"b1\"]))\n",
        "print(\"W2 = \" + str(parameters[\"W2\"]))\n",
        "print(\"b2 = \" + str(parameters[\"b2\"]))"
      ]
    },
    {
      "cell_type": "code",
      "execution_count": 4,
      "metadata": {
        "id": "88vFD5PUSMy1"
      },
      "outputs": [],
      "source": [
        "def linear_forward(A,W,b):\n",
        "  out = np.dot(W,A) + b\n",
        "  assert(out.shape == (W.shape[0] , A.shape[1]))\n",
        "  cache = (A,W,b)\n",
        "  return out , cache"
      ]
    },
    {
      "cell_type": "code",
      "execution_count": 5,
      "metadata": {
        "colab": {
          "base_uri": "https://localhost:8080/"
        },
        "id": "zjXtFJ_NT4na",
        "outputId": "36415aa9-f6cf-4bd2-a2d5-3569eb920de7"
      },
      "outputs": [
        {
          "name": "stdout",
          "output_type": "stream",
          "text": [
            "Z = [[ 3.26295337 -1.23429987]]\n"
          ]
        }
      ],
      "source": [
        "A, W, b = linear_forward_test_case()\n",
        "\n",
        "Z, linear_cache = linear_forward(A, W, b)\n",
        "print(\"Z = \" + str(Z))"
      ]
    },
    {
      "cell_type": "markdown",
      "metadata": {
        "id": "YO4O-lDRUPfJ"
      },
      "source": [
        "```\n",
        "Z = [[ 3.26295337 -1.23429987]]\n",
        "```"
      ]
    },
    {
      "cell_type": "code",
      "execution_count": 6,
      "metadata": {
        "id": "dm0J4AHSUZkH"
      },
      "outputs": [],
      "source": [
        "def sigmoid(Z):\n",
        "  Z_copy = np.array(Z,copy=True)\n",
        "  A = 1 / (1+np.exp(-Z_copy))\n",
        "  assert(Z_copy.shape == A.shape)\n",
        "  cache = Z_copy\n",
        "  return A , cache"
      ]
    },
    {
      "cell_type": "code",
      "execution_count": 7,
      "metadata": {
        "id": "X8IhLA30zK0j"
      },
      "outputs": [],
      "source": [
        "def relu(Z):\n",
        "  Z_copy = np.array(Z,copy=True)\n",
        "  A = np.maximum(0,Z_copy)\n",
        "  assert(A.shape == Z_copy.shape)\n",
        "  cache = Z_copy\n",
        "  return A , cache"
      ]
    },
    {
      "cell_type": "code",
      "execution_count": 8,
      "metadata": {
        "id": "tyl9Uihi0Gcn"
      },
      "outputs": [],
      "source": [
        "def sigmoid_backward(dA , cache ):\n",
        "  Z = cache\n",
        "  s = 1 / (1 + np.exp(-Z))\n",
        "  dZ = dA * s *(1-s)\n",
        "\n",
        "  assert(dZ.shape == Z.shape)\n",
        "  return dZ"
      ]
    },
    {
      "cell_type": "code",
      "execution_count": 9,
      "metadata": {
        "id": "F6vN8Slr05eG"
      },
      "outputs": [],
      "source": [
        "def relu_backward(dA , cache):\n",
        "  Z = cache\n",
        "\n",
        "  dZ = np.array(dA,copy= True)\n",
        "  dZ[Z<=0] = 0\n",
        "  assert(dZ.shape == Z.shape)\n",
        "  return dZ"
      ]
    },
    {
      "cell_type": "code",
      "execution_count": 10,
      "metadata": {
        "id": "JLn25Btj3LWQ"
      },
      "outputs": [],
      "source": [
        "def linear_activation_forward(A_prev,W,b,activation):\n",
        "  if activation == \"sigmoid\":\n",
        "    Z , linear_cache = linear_forward(A_prev,W,b)\n",
        "    A, activation_cache = sigmoid(Z)\n",
        "  elif activation == \"relu\":\n",
        "    Z , linear_cache = linear_forward(A_prev,W,b)\n",
        "    A, activation_cache = relu(Z)\n",
        "  else:\n",
        "    raise(\"invalid activation\")\n",
        "  assert(A.shape == (W.shape[0],A_prev.shape[1]))\n",
        "  cache = (linear_cache , activation_cache)\n",
        "  return A , cache"
      ]
    },
    {
      "cell_type": "code",
      "execution_count": 11,
      "metadata": {
        "colab": {
          "base_uri": "https://localhost:8080/"
        },
        "id": "c1YZI2UZ5Q5D",
        "outputId": "0cabf53c-19cd-44ea-b7cc-aa6455be0778"
      },
      "outputs": [
        {
          "name": "stdout",
          "output_type": "stream",
          "text": [
            "With sigmoid: A = [[0.96890023 0.11013289]]\n",
            "With ReLU: A = [[3.43896131 0.        ]]\n"
          ]
        }
      ],
      "source": [
        "A_prev, W, b = linear_activation_forward_test_case()\n",
        "\n",
        "A, linear_activation_cache = linear_activation_forward(A_prev, W, b, activation = \"sigmoid\")\n",
        "print(\"With sigmoid: A = \" + str(A))\n",
        "\n",
        "A, linear_activation_cache = linear_activation_forward(A_prev, W, b, activation = \"relu\")\n",
        "print(\"With ReLU: A = \" + str(A))"
      ]
    },
    {
      "cell_type": "markdown",
      "metadata": {
        "id": "Uxp6lb-c5c5B"
      },
      "source": [
        "```\n",
        "With sigmoid: A = [[0.96890023 0.11013289]]\n",
        "With ReLU: A = [[3.43896131 0.        ]]\n",
        "```"
      ]
    },
    {
      "cell_type": "code",
      "execution_count": 12,
      "metadata": {
        "id": "p9L_YQ0s5cWq"
      },
      "outputs": [],
      "source": [
        "def L_model_forward(X , param):\n",
        "  L = len(param) // 2\n",
        "  cache_list = []\n",
        "  A_prev = X\n",
        "  for l in range(1,L):\n",
        "    A_ , cache = linear_activation_forward(A_prev,param[\"W\"+str(l)],param[\"b\"+str(l)],\"relu\")\n",
        "    cache_list.append(cache)\n",
        "    assert(A_.shape == (param[\"W\"+str(l)].shape[0] ,A_prev.shape[1]))\n",
        "    A_prev = A_\n",
        "  A , cache = linear_activation_forward(A_prev,param[\"W\"+str(L)],param[\"b\"+str(L)],\"sigmoid\")\n",
        "  cache_list.append(cache)\n",
        "  assert(A.shape == (1 ,A_prev.shape[1]))\n",
        "  return A , cache_list"
      ]
    },
    {
      "cell_type": "code",
      "execution_count": 13,
      "metadata": {
        "colab": {
          "base_uri": "https://localhost:8080/"
        },
        "id": "sXpuvkkt7Zh0",
        "outputId": "4df453a9-14ad-44f2-fe48-0d78ac7c1b4f"
      },
      "outputs": [
        {
          "name": "stdout",
          "output_type": "stream",
          "text": [
            "AL = [[0.03921668 0.70498921 0.19734387 0.04728177]]\n",
            "Length of caches list = 3\n"
          ]
        }
      ],
      "source": [
        "X, parameters = L_model_forward_test_case_2hidden()\n",
        "AL, caches = L_model_forward(X, parameters)\n",
        "print(\"AL = \" + str(AL))\n",
        "print(\"Length of caches list = \" + str(len(caches)))"
      ]
    },
    {
      "cell_type": "markdown",
      "metadata": {
        "id": "WSwLiooo8bFy"
      },
      "source": [
        "```\n",
        "AL = [[0.03921668 0.70498921 0.19734387 0.04728177]]\n",
        "Length of caches list = 3\n",
        "```"
      ]
    },
    {
      "cell_type": "code",
      "execution_count": 14,
      "metadata": {
        "colab": {
          "base_uri": "https://localhost:8080/"
        },
        "id": "BHhR-pGEKGEN",
        "outputId": "47dae1a0-a244-489e-c22a-0647699c9d79"
      },
      "outputs": [
        {
          "data": {
            "text/plain": [
              "array([[-5.23825714,  3.18040136,  0.4074501 , -1.88612721],\n",
              "       [-2.77358234, -0.56177316,  3.18141623, -0.99209432],\n",
              "       [ 4.18500916, -1.78006909, -0.14502619,  2.72141638],\n",
              "       [ 5.05850802, -1.25674082, -3.54566654,  3.82321852]])"
            ]
          },
          "execution_count": 14,
          "metadata": {},
          "output_type": "execute_result"
        }
      ],
      "source": [
        "caches[0][1]"
      ]
    },
    {
      "cell_type": "code",
      "execution_count": 15,
      "metadata": {
        "id": "iTRy8cKU8hbZ"
      },
      "outputs": [],
      "source": [
        "def compute_cost(AL , Y):\n",
        "  cost = np.sum(-Y*np.log(AL) - (1-Y)*np.log(1-AL)) / Y.shape[1]\n",
        "  return cost"
      ]
    },
    {
      "cell_type": "code",
      "execution_count": 16,
      "metadata": {
        "colab": {
          "base_uri": "https://localhost:8080/"
        },
        "id": "ekrB5G2P9g5a",
        "outputId": "fc799d32-21a9-4f04-8a12-bace986f7952"
      },
      "outputs": [
        {
          "name": "stdout",
          "output_type": "stream",
          "text": [
            "cost = 0.2797765635793423\n"
          ]
        }
      ],
      "source": [
        "Y, AL = compute_cost_test_case()\n",
        "\n",
        "print(\"cost = \" + str(compute_cost(AL, Y)))"
      ]
    },
    {
      "cell_type": "markdown",
      "metadata": {
        "id": "3gxPNODE9uPb"
      },
      "source": [
        "```\n",
        "cost = 0.2797765635793422\n",
        "```"
      ]
    },
    {
      "cell_type": "code",
      "execution_count": 17,
      "metadata": {
        "id": "jurA5R1x9uHk"
      },
      "outputs": [],
      "source": [
        "def linear_backward(dZ,cache):\n",
        "  m = dZ.shape[1]\n",
        "  b = cache[2]\n",
        "  A_prev = cache[0]\n",
        "  W = cache[1]\n",
        "  dW = (1/m) * np.dot(dZ,A_prev.T)\n",
        "  dA_prev = np.dot(W.T,dZ)\n",
        "  db = np.sum(dZ,axis=1,keepdims=True) *(1/ m)\n",
        "  assert(dW.shape == W.shape)\n",
        "  assert(db.shape == b.shape)\n",
        "  assert(dA_prev.shape == A_prev.shape)\n",
        "  return dA_prev , dW , db"
      ]
    },
    {
      "cell_type": "code",
      "execution_count": 18,
      "metadata": {
        "colab": {
          "base_uri": "https://localhost:8080/"
        },
        "id": "3PbbD_ctBfT-",
        "outputId": "57462b86-90fe-42dd-9434-fe407f58e661"
      },
      "outputs": [
        {
          "name": "stdout",
          "output_type": "stream",
          "text": [
            "dA_prev = [[-1.15171336  0.06718465 -0.3204696   2.09812712]\n",
            " [ 0.60345879 -3.72508701  5.81700741 -3.84326836]\n",
            " [-0.4319552  -1.30987417  1.72354705  0.05070578]\n",
            " [-0.38981415  0.60811244 -1.25938424  1.47191593]\n",
            " [-2.52214926  2.67882552 -0.67947465  1.48119548]]\n",
            "dW = [[ 0.07313866 -0.0976715  -0.87585828  0.73763362  0.00785716]\n",
            " [ 0.85508818  0.37530413 -0.59912655  0.71278189 -0.58931808]\n",
            " [ 0.97913304 -0.24376494 -0.08839671  0.55151192 -0.10290907]]\n",
            "db = [[-0.14713786]\n",
            " [-0.11313155]\n",
            " [-0.13209101]]\n"
          ]
        }
      ],
      "source": [
        "dZ, linear_cache = linear_backward_test_case()\n",
        "\n",
        "dA_prev, dW, db = linear_backward(dZ, linear_cache)\n",
        "print (\"dA_prev = \"+ str(dA_prev))\n",
        "print (\"dW = \" + str(dW))\n",
        "print (\"db = \" + str(db))"
      ]
    },
    {
      "cell_type": "markdown",
      "metadata": {
        "id": "rr3GFSysBiGh"
      },
      "source": [
        "```\n",
        "dA_prev = [[-1.15171336  0.06718465 -0.3204696   2.09812712]\n",
        " [ 0.60345879 -3.72508701  5.81700741 -3.84326836]\n",
        " [-0.4319552  -1.30987417  1.72354705  0.05070578]\n",
        " [-0.38981415  0.60811244 -1.25938424  1.47191593]\n",
        " [-2.52214926  2.67882552 -0.67947465  1.48119548]]\n",
        "dW = [[ 0.07313866 -0.0976715  -0.87585828  0.73763362  0.00785716]\n",
        " [ 0.85508818  0.37530413 -0.59912655  0.71278189 -0.58931808]\n",
        " [ 0.97913304 -0.24376494 -0.08839671  0.55151192 -0.10290907]]\n",
        "db = [[-0.14713786]\n",
        " [-0.11313155]\n",
        " [-0.13209101]]\n",
        "```"
      ]
    },
    {
      "cell_type": "code",
      "execution_count": 19,
      "metadata": {
        "id": "lUjvo54rBjkZ"
      },
      "outputs": [],
      "source": [
        "def linear_activation_backward(dA , cache , activation):\n",
        "  if activation == \"sigmoid\":\n",
        "    dZ = sigmoid_backward(dA,cache[1])\n",
        "  elif activation == \"relu\":\n",
        "    dZ = relu_backward(dA,cache[1])\n",
        "  else:\n",
        "    raise(\"invalid activation\")\n",
        "  dA_prev , dW , db = linear_backward(dZ,cache[0])\n",
        "  return dA_prev , dW , db"
      ]
    },
    {
      "cell_type": "code",
      "execution_count": 20,
      "metadata": {
        "colab": {
          "base_uri": "https://localhost:8080/"
        },
        "id": "r-ccyJT2C-gL",
        "outputId": "92e8968f-8e4d-459d-dcfc-6ce926e1046e"
      },
      "outputs": [
        {
          "name": "stdout",
          "output_type": "stream",
          "text": [
            "sigmoid:\n",
            "dA_prev = [[ 0.11017994  0.01105339]\n",
            " [ 0.09466817  0.00949723]\n",
            " [-0.05743092 -0.00576154]]\n",
            "dW = [[ 0.10266786  0.09778551 -0.01968084]]\n",
            "db = [[-0.05729622]]\n",
            "\n",
            "relu:\n",
            "dA_prev = [[ 0.44090989  0.        ]\n",
            " [ 0.37883606  0.        ]\n",
            " [-0.2298228   0.        ]]\n",
            "dW = [[ 0.44513824  0.37371418 -0.10478989]]\n",
            "db = [[-0.20837892]]\n"
          ]
        }
      ],
      "source": [
        "dAL, linear_activation_cache = linear_activation_backward_test_case()\n",
        "\n",
        "dA_prev, dW, db = linear_activation_backward(dAL, linear_activation_cache, activation = \"sigmoid\")\n",
        "print (\"sigmoid:\")\n",
        "print (\"dA_prev = \"+ str(dA_prev))\n",
        "print (\"dW = \" + str(dW))\n",
        "print (\"db = \" + str(db) + \"\\n\")\n",
        "\n",
        "dA_prev, dW, db = linear_activation_backward(dAL, linear_activation_cache, activation = \"relu\")\n",
        "print (\"relu:\")\n",
        "print (\"dA_prev = \"+ str(dA_prev))\n",
        "print (\"dW = \" + str(dW))\n",
        "print (\"db = \" + str(db))"
      ]
    },
    {
      "cell_type": "markdown",
      "metadata": {
        "id": "oQPATx4-DBVM"
      },
      "source": [
        "```\n",
        "sigmoid:\n",
        "dA_prev = [[ 0.11017994  0.01105339]\n",
        " [ 0.09466817  0.00949723]\n",
        " [-0.05743092 -0.00576154]]\n",
        "dW = [[ 0.10266786  0.09778551 -0.01968084]]\n",
        "db = [[-0.05729622]]\n",
        "\n",
        "relu:\n",
        "dA_prev = [[ 0.44090989 -0.        ]\n",
        " [ 0.37883606 -0.        ]\n",
        " [-0.2298228   0.        ]]\n",
        "dW = [[ 0.44513824  0.37371418 -0.10478989]]\n",
        "db = [[-0.20837892]]\n",
        "```"
      ]
    },
    {
      "cell_type": "code",
      "execution_count": 21,
      "metadata": {
        "id": "mALzOYo8DCn1"
      },
      "outputs": [],
      "source": [
        "def L_model_backward(AL,Y,cache):\n",
        "  dAL = -(np.divide(Y,AL) - np.divide(1-Y,1-AL))\n",
        "  L = len(cache)\n",
        "  Y = Y.reshape(AL.shape)\n",
        "  grads = {}\n",
        "  dA , dW , db = linear_activation_backward(dAL , cache[L-1] , \"sigmoid\")\n",
        "  grads[\"dW\"+str(L)] = dW\n",
        "  grads[\"db\"+str(L)] = db\n",
        "  grads[\"dA\"+str(L-1)] = dA\n",
        "  for l in range(L-1,0,-1):\n",
        "    dA , dW , db = linear_activation_backward(dA , cache[l-1] , \"relu\")\n",
        "    grads[\"dW\"+str(l)] = dW\n",
        "    grads[\"db\"+str(l)] = db\n",
        "    grads[\"dA\"+str(l-1)] = dA\n",
        "\n",
        "  return grads"
      ]
    },
    {
      "cell_type": "code",
      "execution_count": 22,
      "metadata": {
        "colab": {
          "base_uri": "https://localhost:8080/"
        },
        "id": "q9GpTpk3GKZv",
        "outputId": "c40c0fe7-1bc3-4117-eeee-dca0e2d48c0e"
      },
      "outputs": [
        {
          "name": "stdout",
          "output_type": "stream",
          "text": [
            "dW1 = [[0.41010002 0.07807203 0.13798444 0.10502167]\n",
            " [0.         0.         0.         0.        ]\n",
            " [0.05283652 0.01005865 0.01777766 0.0135308 ]]\n",
            "db1 = [[-0.22007063]\n",
            " [ 0.        ]\n",
            " [-0.02835349]]\n",
            "dA1 = [[ 0.12913162 -0.44014127]\n",
            " [-0.14175655  0.48317296]\n",
            " [ 0.01663708 -0.05670698]]\n"
          ]
        }
      ],
      "source": [
        "AL, Y_assess, caches = L_model_backward_test_case()\n",
        "grads = L_model_backward(AL, Y_assess, caches)\n",
        "print_grads(grads)"
      ]
    },
    {
      "cell_type": "markdown",
      "metadata": {
        "id": "UktRBsqBPxhO"
      },
      "source": [
        "```\n",
        "dW1 = [[0.41010002 0.07807203 0.13798444 0.10502167]\n",
        " [0.         0.         0.         0.        ]\n",
        " [0.05283652 0.01005865 0.01777766 0.0135308 ]]\n",
        "db1 = [[-0.22007063]\n",
        " [ 0.        ]\n",
        " [-0.02835349]]\n",
        "dA1 = [[ 0.12913162 -0.44014127]\n",
        " [-0.14175655  0.48317296]\n",
        " [ 0.01663708 -0.05670698]]\n",
        "\n",
        "```"
      ]
    },
    {
      "cell_type": "code",
      "execution_count": 23,
      "metadata": {
        "id": "_L-g8tZwPy53"
      },
      "outputs": [],
      "source": [
        "def update_parameters(params , grads , alpha ):\n",
        "  L = len(params) // 2\n",
        "  for l in range(1,L+1):\n",
        "    params[\"W\"+str(l)] = params[\"W\"+str(l)] - alpha * grads[\"dW\"+str(l)]\n",
        "    params[\"b\"+str(l)] = params[\"b\"+str(l)] - alpha * grads[\"db\"+str(l)]\n",
        "  return params"
      ]
    },
    {
      "cell_type": "code",
      "execution_count": 24,
      "metadata": {
        "colab": {
          "base_uri": "https://localhost:8080/"
        },
        "id": "TL1DFZ7gRjwt",
        "outputId": "20a13c4b-88b2-4102-8f9a-811b428a73bb"
      },
      "outputs": [
        {
          "name": "stdout",
          "output_type": "stream",
          "text": [
            "W1 = [[-0.59562069 -0.09991781 -2.14584584  1.82662008]\n",
            " [-1.76569676 -0.80627147  0.51115557 -1.18258802]\n",
            " [-1.0535704  -0.86128581  0.68284052  2.20374577]]\n",
            "b1 = [[-0.04659241]\n",
            " [-1.28888275]\n",
            " [ 0.53405496]]\n",
            "W2 = [[-0.55569196  0.0354055   1.32964895]]\n",
            "b2 = [[-0.84610769]]\n"
          ]
        }
      ],
      "source": [
        "parameters, grads = update_parameters_test_case()\n",
        "parameters = update_parameters(parameters, grads, 0.1)\n",
        "\n",
        "print (\"W1 = \"+ str(parameters[\"W1\"]))\n",
        "print (\"b1 = \"+ str(parameters[\"b1\"]))\n",
        "print (\"W2 = \"+ str(parameters[\"W2\"]))\n",
        "print (\"b2 = \"+ str(parameters[\"b2\"]))"
      ]
    },
    {
      "cell_type": "markdown",
      "metadata": {
        "id": "6FUGVarPR3bw"
      },
      "source": [
        "```\n",
        "W1 = [[-0.59562069 -0.09991781 -2.14584584  1.82662008]\n",
        " [-1.76569676 -0.80627147  0.51115557 -1.18258802]\n",
        " [-1.0535704  -0.86128581  0.68284052  2.20374577]]\n",
        "b1 = [[-0.04659241]\n",
        " [-1.28888275]\n",
        " [ 0.53405496]]\n",
        "W2 = [[-0.55569196  0.0354055   1.32964895]]\n",
        "b2 = [[-0.84610769]]\n",
        "```"
      ]
    },
    {
      "cell_type": "markdown",
      "metadata": {},
      "source": [
        "# data preprocessing "
      ]
    },
    {
      "cell_type": "code",
      "execution_count": 25,
      "metadata": {
        "id": "tnt-V0bdRZ_o"
      },
      "outputs": [],
      "source": [
        "train_dataset = h5py.File(\"datasets/train_catvnoncat.h5\" , 'r')\n",
        "test_dataset = h5py.File(\"datasets/test_catvnoncat.h5\" , 'r')"
      ]
    },
    {
      "cell_type": "code",
      "execution_count": 26,
      "metadata": {
        "colab": {
          "base_uri": "https://localhost:8080/"
        },
        "id": "RE_A1tCiRZ_o",
        "outputId": "9d776de0-8e1c-4d86-c00f-f571da0b3575"
      },
      "outputs": [
        {
          "data": {
            "text/plain": [
              "<KeysViewHDF5 ['list_classes', 'train_set_x', 'train_set_y']>"
            ]
          },
          "execution_count": 26,
          "metadata": {},
          "output_type": "execute_result"
        }
      ],
      "source": [
        "train_dataset.keys()"
      ]
    },
    {
      "cell_type": "code",
      "execution_count": 27,
      "metadata": {
        "id": "jwJNsUmCRZ_o"
      },
      "outputs": [],
      "source": [
        "images_train = np.array(train_dataset[\"train_set_x\"])\n",
        "labels_train = np.array(train_dataset[\"train_set_y\"]).reshape(1,-1)\n",
        "images_test = np.array(test_dataset['test_set_x'])\n",
        "labels_test = np.array(test_dataset['test_set_y']).reshape(1,-1)"
      ]
    },
    {
      "cell_type": "code",
      "execution_count": 28,
      "metadata": {
        "colab": {
          "base_uri": "https://localhost:8080/"
        },
        "id": "QbQy09-7RZ_p",
        "outputId": "fcf0d2fc-7dba-4ef9-f02d-c48613b57b06"
      },
      "outputs": [
        {
          "name": "stdout",
          "output_type": "stream",
          "text": [
            "(209, 64, 64, 3)\n",
            "(1, 209)\n",
            "(50, 64, 64, 3)\n",
            "(1, 50)\n"
          ]
        }
      ],
      "source": [
        "print(images_train.shape , labels_train.shape , images_test.shape , labels_test.shape ,sep =\"\\n\")"
      ]
    },
    {
      "cell_type": "code",
      "execution_count": 29,
      "metadata": {
        "id": "oM2hGb5ARZ_p"
      },
      "outputs": [],
      "source": [
        "X_train_m = images_train.T.reshape(-1,209)\n",
        "X_test_m = images_test.T.reshape(-1,50)"
      ]
    },
    {
      "cell_type": "code",
      "execution_count": 30,
      "metadata": {
        "id": "DYbP0FkjRZ_p"
      },
      "outputs": [],
      "source": [
        "X_train_ms = (X_train_m / 255.).astype(\"float32\")\n",
        "X_test_ms = (X_test_m / 255.).astype(\"float32\")"
      ]
    },
    {
      "cell_type": "code",
      "execution_count": 31,
      "metadata": {
        "id": "JQItkTuCZ_S4"
      },
      "outputs": [],
      "source": [
        "def predict(X,Y,params):\n",
        "  prob , cache = L_model_forward(X,params)\n",
        "  assert(prob.shape == Y.shape)\n",
        "  p = (prob>0.5) * 1\n",
        "  temp = p == Y\n",
        "  accuracy = np.sum(temp) / X.shape[1]\n",
        "  print(\"accuracy:\"+str(accuracy))\n",
        "  return p"
      ]
    },
    {
      "cell_type": "markdown",
      "metadata": {},
      "source": [
        "# training"
      ]
    },
    {
      "cell_type": "code",
      "execution_count": 32,
      "metadata": {},
      "outputs": [],
      "source": [
        "%load_ext autoreload\n",
        "%autoreload 2"
      ]
    },
    {
      "cell_type": "code",
      "execution_count": 33,
      "metadata": {
        "id": "3GQNANKkbug_"
      },
      "outputs": [],
      "source": [
        "def L_layer_model(X,Y,layers_dims  ,learning_rate= 0.0075,num_iterations=3000,print_cost = False):\n",
        "  np.random.seed(1)\n",
        "  costs = []\n",
        "  L = len(layers_dims) -1\n",
        "  parameters = initialize_parameters_deep(layers_dims)\n",
        "  for i in range(num_iterations):\n",
        "    AL , cache = L_model_forward(X,parameters)\n",
        "    cost = compute_cost(AL , Y)\n",
        "    costs.append(cost)\n",
        "    grads = L_model_backward(AL,Y,cache)\n",
        "    parameters = update_parameters(parameters,grads,learning_rate)\n",
        "    if print_cost and i % 100 == 0:\n",
        "\n",
        "      print(f\"cost in {i} : \"+str(cost))\n",
        "      #p = predict(X,Y,parameters)\n",
        "\n",
        "  plt.plot(np.squeeze(costs))\n",
        "  plt.ylabel('cost')\n",
        "  plt.xlabel('iterations (per hundreds)')\n",
        "  plt.title(\"Learning rate =\" + str(learning_rate))\n",
        "  plt.show()\n",
        "\n",
        "  return parameters"
      ]
    },
    {
      "cell_type": "code",
      "execution_count": 34,
      "metadata": {
        "id": "4Hrw96UaeoHT"
      },
      "outputs": [],
      "source": [
        "layers_dims = (12288, 32, 16, 8, 4,2,1) #  4-layer model"
      ]
    },
    {
      "cell_type": "code",
      "execution_count": 35,
      "metadata": {
        "colab": {
          "base_uri": "https://localhost:8080/",
          "height": 919
        },
        "id": "OSsTepeTeq4V",
        "outputId": "f257651d-9818-49d1-c8d2-9e6323b65768"
      },
      "outputs": [
        {
          "name": "stdout",
          "output_type": "stream",
          "text": [
            "cost in 0 : 0.6971897509880736\n"
          ]
        },
        {
          "name": "stdout",
          "output_type": "stream",
          "text": [
            "cost in 100 : 0.6758635873707902\n",
            "cost in 200 : 0.6616700927366587\n",
            "cost in 300 : 0.646454349866057\n",
            "cost in 400 : 0.6281281111928654\n",
            "cost in 500 : 0.6073258782729083\n",
            "cost in 600 : 0.5724532157120807\n",
            "cost in 700 : 0.5255284935619237\n",
            "cost in 800 : 0.44785118130840834\n",
            "cost in 900 : 0.3399781621722945\n",
            "cost in 1000 : 0.24142626603799677\n",
            "cost in 1100 : 0.1569495538598248\n",
            "cost in 1200 : 0.4628462606809744\n",
            "cost in 1300 : 0.06240274011425986\n",
            "cost in 1400 : 0.027264100422024977\n",
            "cost in 1500 : 0.016949370327288157\n",
            "cost in 1600 : 0.011860060152316162\n",
            "cost in 1700 : 0.008878245564977521\n",
            "cost in 1800 : 0.006980049482509792\n",
            "cost in 1900 : 0.005688239641037827\n",
            "cost in 2000 : 0.004762279530472276\n",
            "cost in 2100 : 0.004067416853015588\n",
            "cost in 2200 : 0.003530292299170492\n",
            "cost in 2300 : 0.003104652561707774\n",
            "cost in 2400 : 0.0027551717381248055\n",
            "cost in 2500 : 0.0024687108698638856\n",
            "cost in 2600 : 0.002230946274303613\n",
            "cost in 2700 : 0.0020315716358892686\n",
            "cost in 2800 : 0.0018625283471315392\n",
            "cost in 2900 : 0.0017150502451464091\n",
            "cost in 3000 : 0.0015874945831466489\n",
            "cost in 3100 : 0.0014753163736391725\n",
            "cost in 3200 : 0.0013770335080715908\n",
            "cost in 3300 : 0.0012901735896757268\n",
            "cost in 3400 : 0.0012116472189752604\n",
            "cost in 3500 : 0.0011413893533186053\n",
            "cost in 3600 : 0.0010783419466533668\n",
            "cost in 3700 : 0.0010205942044082\n",
            "cost in 3800 : 0.0009679289826316684\n",
            "cost in 3900 : 0.0009200139000447169\n",
            "cost in 4000 : 0.0008760971467685106\n",
            "cost in 4100 : 0.0008358526752492311\n",
            "cost in 4200 : 0.0007986545047288676\n",
            "cost in 4300 : 0.0007642551187921888\n",
            "cost in 4400 : 0.0007321200032089027\n"
          ]
        },
        {
          "data": {
            "image/png": "[encoded data removed]",
            "text/plain": [
              "<Figure size 640x480 with 1 Axes>"
            ]
          },
          "metadata": {},
          "output_type": "display_data"
        }
      ],
      "source": [
        "parameters = L_layer_model(X_train_ms,labels_train, layers_dims, num_iterations = 4500, print_cost = True)"
      ]
    },
    {
      "cell_type": "markdown",
      "metadata": {},
      "source": []
    },
    {
      "cell_type": "code",
      "execution_count": 36,
      "metadata": {},
      "outputs": [
        {
          "name": "stdout",
          "output_type": "stream",
          "text": [
            "accuracy:1.0\n"
          ]
        }
      ],
      "source": [
        "p = predict(X_train_ms,labels_train,parameters)"
      ]
    },
    {
      "cell_type": "code",
      "execution_count": 37,
      "metadata": {},
      "outputs": [
        {
          "name": "stdout",
          "output_type": "stream",
          "text": [
            "accuracy:0.74\n"
          ]
        }
      ],
      "source": [
        "p = predict(X_test_ms,labels_test,parameters)"
      ]
    }
  ],
  "metadata": {
    "colab": {
      "provenance": []
    },
    "kernelspec": {
      "display_name": "Python 3",
      "name": "python3"
    },
    "language_info": {
      "codemirror_mode": {
        "name": "ipython",
        "version": 3
      },
      "file_extension": ".py",
      "mimetype": "text/x-python",
      "name": "python",
      "nbconvert_exporter": "python",
      "pygments_lexer": "ipython3",
      "version": "3.9.13"
    }
  },
  "nbformat": 4,
  "nbformat_minor": 0
}
