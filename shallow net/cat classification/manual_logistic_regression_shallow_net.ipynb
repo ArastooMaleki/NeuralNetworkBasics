{
 "cells": [
  {
   "cell_type": "markdown",
   "metadata": {},
   "source": [
    "# preprocessing"
   ]
  },
  {
   "cell_type": "code",
   "execution_count": 1,
   "metadata": {
    "id": "L4o86j5KZJtG"
   },
   "outputs": [],
   "source": [
    "import numpy as np\n",
    "import h5py\n",
    "import PIL\n",
    "from PIL import Image\n",
    "import matplotlib.pyplot as plt\n",
    "%matplotlib inline"
   ]
  },
  {
   "cell_type": "code",
   "execution_count": 2,
   "metadata": {
    "colab": {
     "base_uri": "https://localhost:8080/"
    },
    "id": "UaCE5DBqb-jP",
    "outputId": "db5cf705-6564-422c-e2ca-de2bc4cc8d7a"
   },
   "outputs": [
    {
     "name": "stdout",
     "output_type": "stream",
     "text": [
      "<KeysViewHDF5 ['list_classes', 'train_set_x', 'train_set_y']>\n"
     ]
    }
   ],
   "source": [
    "train = h5py.File(\"datasets/train_catvnoncat.h5\",\"r\")\n",
    "test = h5py.File(\"datasets/test_catvnoncat.h5\",\"r\")\n",
    "print(train.keys())"
   ]
  },
  {
   "cell_type": "code",
   "execution_count": 3,
   "metadata": {
    "id": "oD3298GJZk5Z"
   },
   "outputs": [],
   "source": [
    "images_train = np.array(train[\"train_set_x\"][:])\n",
    "labels_train = np.array(train[\"train_set_y\"][:]).reshape(1,-1)\n",
    "images_test = np.array(test[\"test_set_x\"][:])\n",
    "labels_test = np.array(test[\"test_set_y\"][:]).reshape(1,-1)"
   ]
  },
  {
   "cell_type": "code",
   "execution_count": 4,
   "metadata": {
    "colab": {
     "base_uri": "https://localhost:8080/"
    },
    "id": "p1d19BWmafp9",
    "outputId": "1cfc5921-144a-4ecb-bd7e-ecba6e9d89de"
   },
   "outputs": [
    {
     "name": "stdout",
     "output_type": "stream",
     "text": [
      " shape images_train : (209, 64, 64, 3) \n",
      " shape labels_train : (1, 209) \n",
      " shape images_test : (50, 64, 64, 3)\n",
      " shape labels_test : (1, 50)\n"
     ]
    }
   ],
   "source": [
    "print(f\" shape images_train : {images_train.shape} \\n shape labels_train : {labels_train.shape} \\n shape images_test : {images_test.shape}\\n shape labels_test : {labels_test.shape}\")"
   ]
  },
  {
   "cell_type": "code",
   "execution_count": 5,
   "metadata": {
    "id": "6pZcSb9WdCwR"
   },
   "outputs": [],
   "source": [
    "images_train_m = images_train.T.reshape(images_train.shape[1]*images_train.shape[2]*images_train.shape[3],-1)\n",
    "images_test_m = images_test.T.reshape(images_test.shape[1]*images_test.shape[2]*images_test.shape[3],-1)"
   ]
  },
  {
   "cell_type": "code",
   "execution_count": 6,
   "metadata": {
    "colab": {
     "base_uri": "https://localhost:8080/"
    },
    "id": "FvogE92GeQTB",
    "outputId": "4ec7d98c-0191-4790-d0ee-6ce3875cad09"
   },
   "outputs": [
    {
     "name": "stdout",
     "output_type": "stream",
     "text": [
      " shape images_train_m : (12288, 209) \n",
      " shape labels_train_m : (12288, 50)\n"
     ]
    }
   ],
   "source": [
    "print(f\" shape images_train_m : {images_train_m.shape} \\n shape labels_train_m : {images_test_m.shape}\")"
   ]
  },
  {
   "cell_type": "code",
   "execution_count": 7,
   "metadata": {
    "id": "LBmutfAQeVtI"
   },
   "outputs": [],
   "source": [
    "images_train_sm = (images_train_m/255.).astype(\"float32\")\n",
    "images_test_sm = (images_test_m/255.).astype(\"float32\")"
   ]
  },
  {
   "cell_type": "markdown",
   "metadata": {},
   "source": [
    "# modelling"
   ]
  },
  {
   "cell_type": "code",
   "execution_count": 56,
   "metadata": {
    "id": "bhLgbwM0epSB"
   },
   "outputs": [],
   "source": [
    "def sigmoid(x , derivative=False):\n",
    "  x = np.array(x,dtype = np.float128)\n",
    "  if not derivative:\n",
    "    A = (1/(1+np.exp(-x)))\n",
    "    assert(A.shape == x.shape)\n",
    "    return A\n",
    "  else :\n",
    "    s = sigmoid(x)\n",
    "    dA = (s*(1-s))\n",
    "    assert(dA.shape == x.shape )\n",
    "    return dA"
   ]
  },
  {
   "cell_type": "code",
   "execution_count": 9,
   "metadata": {
    "id": "Qvd4gn95hCP6"
   },
   "outputs": [],
   "source": [
    "def tanh(x,derivative=False):\n",
    "  x = np.array(x)\n",
    "  if not derivative:\n",
    "    A = np.tanh(x)\n",
    "    assert(A.shape == x.shape)\n",
    "    return A\n",
    "  else:\n",
    "    dA = (1-np.power((np.tanh(x)),2))\n",
    "    assert(dA.shape == x.shape )\n",
    "    return dA"
   ]
  },
  {
   "cell_type": "code",
   "execution_count": 10,
   "metadata": {
    "id": "uitQ3z3HicXI"
   },
   "outputs": [],
   "source": [
    "def relu(x,derivative=False):\n",
    "  x = np.array(x)\n",
    "  if not derivative:\n",
    "    x[x<=0] = 0\n",
    "    return x\n",
    "  else:\n",
    "    x[x>0] = 1\n",
    "    x[x<=0] = 0\n",
    "    return x"
   ]
  },
  {
   "cell_type": "code",
   "execution_count": 11,
   "metadata": {
    "id": "s4sQgGa_mIo6"
   },
   "outputs": [],
   "source": [
    "def leaky_relu(x , derivative=False):\n",
    "  x = np.array(x)\n",
    "  if not derivative:\n",
    "    x[x<=0] = 0.01*x[x<=0]\n",
    "    return x\n",
    "  else :\n",
    "    x[x > 0] = 1\n",
    "    x[x<=0] = 0.01\n",
    "    return x"
   ]
  },
  {
   "cell_type": "code",
   "execution_count": 12,
   "metadata": {
    "id": "Kf_PqMzwludp"
   },
   "outputs": [],
   "source": [
    "def propagate(X,W1,b1,W2,b2,Y,activation1,activation2):\n",
    "  m = X.shape[1]\n",
    "  Z1 = np.dot(W1,X) + b1\n",
    "  A1 = activation1(Z1)\n",
    "  Z2 = np.dot(W2,A1) + b2\n",
    "  A2 = activation2(Z2)\n",
    "  cost = np.sum(-Y*np.log(A2)-(1-Y)*np.log(1-A2))/m\n",
    "  #dA2 = -(Y/A2)-((1-Y)/(1-A2))\n",
    "  dA2 = -(np.divide(Y,A2)-np.divide(1-Y,1-A2))\n",
    "  dZ2 = dA2 * activation2(Z2,True)\n",
    "  dW2 = np.dot(dZ2,A1.T)/m\n",
    "  db2 = np.sum(dZ2,axis=1,keepdims=True)/m\n",
    "  dA1 = np.dot(W2.T,dZ2)\n",
    "  dZ1 = dA1 * activation1(Z1,True)\n",
    "  dW1 = np.dot(dZ1,X.T) /m\n",
    "  db1 = np.sum(dZ1,axis=1,keepdims=True)/m\n",
    "  grad = {\n",
    "      \"db1\":db1,\n",
    "      \"db2\":db2,\n",
    "      \"dW1\":dW1,\n",
    "      \"dW2\":dW2\n",
    "  }\n",
    "  return grad , cost"
   ]
  },
  {
   "cell_type": "code",
   "execution_count": 13,
   "metadata": {
    "id": "ezmrQ_Hlv-OK"
   },
   "outputs": [],
   "source": [
    "def first_random_initialize(n1,n2):\n",
    "  W1 = np.random.randn(n1,12288) / np.sqrt(12288)\n",
    "  W2 = np.random.randn(n2,n1) / np.sqrt(n1)\n",
    "  b1 = np.zeros((n1,1))\n",
    "  b2 = np.zeros((n2,1))\n",
    "  return W1,b1,W2,b2"
   ]
  },
  {
   "cell_type": "code",
   "execution_count": 14,
   "metadata": {
    "id": "tAmqHnxI2Zts"
   },
   "outputs": [],
   "source": [
    "class model:\n",
    "    object_number = 0\n",
    "    def __init__(self,name,act1,act2):\n",
    "        model.object_number += 1\n",
    "        self.name = name\n",
    "        # self.W1\n",
    "        # self.W2\n",
    "        # self.b1\n",
    "        # self.b2\n",
    "        self.activation1 = act1\n",
    "        self.activation2 = act2\n",
    "        self.n1 = 3\n",
    "        self.n2 = 1\n",
    "        self.n0 = 12288\n",
    "        self.accuracy_value = None\n",
    "        self.W1 , self.b1 ,self.W2,self.b2 = first_random_initialize(self.n1,self.n2)\n",
    "    def predict(self,X,prob=False):\n",
    "        Z1 = np.dot(self.W1,X) + self.b1\n",
    "        A1 = self.activation1(Z1)\n",
    "        Z2 = np.dot(self.W2,A1) + self.b2\n",
    "        A2 = self.activation2(Z2)\n",
    "        if prob:\n",
    "            return A2\n",
    "        out = (A2>=0.5) * 1\n",
    "        return out\n",
    "    def accuracy(self,X,Y):\n",
    "        y_hat = self.predict(X)\n",
    "        correct = np.sum(y_hat == Y)\n",
    "        return (correct / Y.shape[1])*100\n",
    "    def train(self,X,Y,epochs,learning_rate,X_t,Y_t):\n",
    "        alpha = learning_rate\n",
    "        costs=[]\n",
    "        accuracies_train = []\n",
    "        accuracies_test = []\n",
    "        for i in range(epochs):\n",
    "            grad , cost = propagate(X,self.W1,self.b1,self.W2,self.b2,Y,self.activation1,self.activation2)\n",
    "            costs.append(cost)\n",
    "            self.W1 , self.b1 ,self.W2,self.b2 = self.W1-alpha*grad['dW1'] , self.b1-alpha*grad['db1'] ,self.W2-alpha*grad['dW2'],self.b2-alpha*grad['db2']\n",
    "            accuracy_train = self.accuracy(X,Y)\n",
    "            accuracy_test = self.accuracy(X_t,Y_t)\n",
    "            accuracies_train.append(accuracy_train)\n",
    "            accuracies_test.append(accuracy_test)\n",
    "            if i % 100 == 0:\n",
    "                print(f\" iteration : {i}\\n cost : {cost}\\n train accuracy : {accuracy_train}\\n test accuracy : {accuracy_test}\\n *************************** \")\n",
    "        return costs,accuracies_train,accuracies_test"
   ]
  },
  {
   "cell_type": "code",
   "execution_count": 15,
   "metadata": {
    "id": "INJzjuUfEDOa"
   },
   "outputs": [],
   "source": [
    "model_1 = model(\"model_1_sigmoid\",sigmoid,sigmoid)"
   ]
  },
  {
   "cell_type": "code",
   "execution_count": 20,
   "metadata": {
    "colab": {
     "base_uri": "https://localhost:8080/"
    },
    "id": "r_5xXxdOEWjh",
    "outputId": "d3a11a65-e1e3-4abd-95a1-74324d37a80c"
   },
   "outputs": [
    {
     "name": "stdout",
     "output_type": "stream",
     "text": [
      " iteration : 0\n",
      " cost : 0.4985493913288666\n",
      " train accuracy : 65.55023923444976\n",
      " test accuracy : 36.0\n",
      " *************************** \n",
      " iteration : 100\n",
      " cost : 0.4891771087899022\n",
      " train accuracy : 65.55023923444976\n",
      " test accuracy : 40.0\n",
      " *************************** \n",
      " iteration : 200\n",
      " cost : 0.47982622857964935\n",
      " train accuracy : 68.42105263157895\n",
      " test accuracy : 42.0\n",
      " *************************** \n",
      " iteration : 300\n",
      " cost : 0.4704993385066043\n",
      " train accuracy : 69.85645933014354\n",
      " test accuracy : 44.0\n",
      " *************************** \n",
      " iteration : 400\n",
      " cost : 0.4611997919755105\n",
      " train accuracy : 70.33492822966507\n",
      " test accuracy : 48.0\n",
      " *************************** \n",
      " iteration : 500\n",
      " cost : 0.45193890291880384\n",
      " train accuracy : 70.81339712918661\n",
      " test accuracy : 50.0\n",
      " *************************** \n",
      " iteration : 600\n",
      " cost : 0.4427449756567909\n",
      " train accuracy : 72.24880382775119\n",
      " test accuracy : 57.99999999999999\n",
      " *************************** \n",
      " iteration : 700\n",
      " cost : 0.4336603928649937\n",
      " train accuracy : 75.5980861244019\n",
      " test accuracy : 62.0\n",
      " *************************** \n",
      " iteration : 800\n",
      " cost : 0.4247226677504208\n",
      " train accuracy : 78.94736842105263\n",
      " test accuracy : 60.0\n",
      " *************************** \n",
      " iteration : 900\n",
      " cost : 0.41595052696000917\n",
      " train accuracy : 80.86124401913875\n",
      " test accuracy : 62.0\n",
      " *************************** \n",
      " iteration : 1000\n",
      " cost : 0.40734666507745637\n",
      " train accuracy : 83.25358851674642\n",
      " test accuracy : 62.0\n",
      " *************************** \n",
      " iteration : 1100\n",
      " cost : 0.3989059832796919\n",
      " train accuracy : 86.1244019138756\n",
      " test accuracy : 62.0\n",
      " *************************** \n",
      " iteration : 1200\n",
      " cost : 0.39062115140105813\n",
      " train accuracy : 85.64593301435407\n",
      " test accuracy : 62.0\n",
      " *************************** \n",
      " iteration : 1300\n",
      " cost : 0.3824858484375432\n",
      " train accuracy : 87.5598086124402\n",
      " test accuracy : 64.0\n",
      " *************************** \n",
      " iteration : 1400\n",
      " cost : 0.3744970992023262\n",
      " train accuracy : 88.03827751196172\n",
      " test accuracy : 64.0\n",
      " *************************** \n",
      " iteration : 1500\n",
      " cost : 0.3666564137695242\n",
      " train accuracy : 88.03827751196172\n",
      " test accuracy : 64.0\n",
      " *************************** \n",
      " iteration : 1600\n",
      " cost : 0.3589688205704803\n",
      " train accuracy : 89.47368421052632\n",
      " test accuracy : 68.0\n",
      " *************************** \n",
      " iteration : 1700\n",
      " cost : 0.35144033139183195\n",
      " train accuracy : 89.95215311004785\n",
      " test accuracy : 68.0\n",
      " *************************** \n",
      " iteration : 1800\n",
      " cost : 0.3440758692737446\n",
      " train accuracy : 90.9090909090909\n",
      " test accuracy : 68.0\n",
      " *************************** \n",
      " iteration : 1900\n",
      " cost : 0.33687884642509974\n",
      " train accuracy : 91.86602870813397\n",
      " test accuracy : 68.0\n",
      " *************************** \n",
      " iteration : 2000\n",
      " cost : 0.329851519603126\n",
      " train accuracy : 93.30143540669856\n",
      " test accuracy : 68.0\n",
      " *************************** \n",
      " iteration : 2100\n",
      " cost : 0.32299449629325444\n",
      " train accuracy : 93.30143540669856\n",
      " test accuracy : 68.0\n",
      " *************************** \n",
      " iteration : 2200\n",
      " cost : 0.3163049153405996\n",
      " train accuracy : 93.77990430622009\n",
      " test accuracy : 70.0\n",
      " *************************** \n",
      " iteration : 2300\n",
      " cost : 0.3097742811020945\n",
      " train accuracy : 94.25837320574163\n",
      " test accuracy : 72.0\n",
      " *************************** \n",
      " iteration : 2400\n",
      " cost : 0.30338693078018997\n",
      " train accuracy : 94.73684210526315\n",
      " test accuracy : 70.0\n",
      " *************************** \n"
     ]
    }
   ],
   "source": [
    "costs , acc_tr , acc_te = model_1.train(images_train_sm,labels_train,2500,0.0075,images_test_sm,labels_test)"
   ]
  },
  {
   "cell_type": "code",
   "execution_count": 21,
   "metadata": {
    "colab": {
     "base_uri": "https://localhost:8080/",
     "height": 448
    },
    "id": "SoyXn1OGFjAM",
    "outputId": "bdcf7b79-98f7-4f5e-865f-e54d204f25a9"
   },
   "outputs": [
    {
     "data": {
      "text/plain": [
       "[<matplotlib.lines.Line2D at 0x1cf23e268e0>]"
      ]
     },
     "execution_count": 21,
     "metadata": {},
     "output_type": "execute_result"
    },
    {
     "data": {
      "image/png": "[encoded data removed]",
      "text/plain": [
       "<Figure size 640x480 with 1 Axes>"
      ]
     },
     "metadata": {},
     "output_type": "display_data"
    }
   ],
   "source": [
    "plt.plot(costs)"
   ]
  },
  {
   "cell_type": "code",
   "execution_count": 22,
   "metadata": {
    "colab": {
     "base_uri": "https://localhost:8080/",
     "height": 448
    },
    "id": "BZRb32iOOtx9",
    "outputId": "cf5dc2a9-2cd1-4cf7-f659-34c56b031f47"
   },
   "outputs": [
    {
     "data": {
      "text/plain": [
       "[<matplotlib.lines.Line2D at 0x1cf240dfb50>]"
      ]
     },
     "execution_count": 22,
     "metadata": {},
     "output_type": "execute_result"
    },
    {
     "data": {
      "image/png": "[encoded data removed]",
      "text/plain": [
       "<Figure size 640x480 with 1 Axes>"
      ]
     },
     "metadata": {},
     "output_type": "display_data"
    }
   ],
   "source": [
    "plt.plot(acc_tr)"
   ]
  },
  {
   "cell_type": "code",
   "execution_count": 23,
   "metadata": {
    "colab": {
     "base_uri": "https://localhost:8080/",
     "height": 448
    },
    "id": "K8C0-lvLO0Ee",
    "outputId": "bf540a1b-bec3-43fc-d45b-d96aa7df303e"
   },
   "outputs": [
    {
     "data": {
      "text/plain": [
       "[<matplotlib.lines.Line2D at 0x1cf24150310>]"
      ]
     },
     "execution_count": 23,
     "metadata": {},
     "output_type": "execute_result"
    },
    {
     "data": {
      "image/png": "[encoded data removed]",
      "text/plain": [
       "<Figure size 640x480 with 1 Axes>"
      ]
     },
     "metadata": {},
     "output_type": "display_data"
    }
   ],
   "source": [
    "plt.plot(acc_te)"
   ]
  },
  {
   "cell_type": "code",
   "execution_count": 24,
   "metadata": {
    "id": "aXWBD8Nx0EXR"
   },
   "outputs": [],
   "source": [
    "model_2 = model(\"model_2_tanh\",tanh,sigmoid)"
   ]
  },
  {
   "cell_type": "code",
   "execution_count": 25,
   "metadata": {
    "colab": {
     "base_uri": "https://localhost:8080/"
    },
    "id": "5yXvpiZX0ETK",
    "outputId": "8c4c8292-4e95-459c-a681-8b13be180d28",
    "scrolled": false
   },
   "outputs": [
    {
     "name": "stdout",
     "output_type": "stream",
     "text": [
      " iteration : 0\n",
      " cost : 0.6945192393905671\n",
      " train accuracy : 65.07177033492823\n",
      " test accuracy : 34.0\n",
      " *************************** \n",
      " iteration : 100\n",
      " cost : 0.579812367543318\n",
      " train accuracy : 80.38277511961722\n",
      " test accuracy : 54.0\n",
      " *************************** \n",
      " iteration : 200\n",
      " cost : 0.49326601509182744\n",
      " train accuracy : 84.21052631578947\n",
      " test accuracy : 72.0\n",
      " *************************** \n",
      " iteration : 300\n",
      " cost : 0.44458406919221205\n",
      " train accuracy : 85.16746411483254\n",
      " test accuracy : 74.0\n",
      " *************************** \n",
      " iteration : 400\n",
      " cost : 0.40168371055548835\n",
      " train accuracy : 87.5598086124402\n",
      " test accuracy : 74.0\n",
      " *************************** \n",
      " iteration : 500\n",
      " cost : 0.3599649329658894\n",
      " train accuracy : 88.51674641148325\n",
      " test accuracy : 74.0\n",
      " *************************** \n",
      " iteration : 600\n",
      " cost : 0.31262561912326636\n",
      " train accuracy : 90.9090909090909\n",
      " test accuracy : 70.0\n",
      " *************************** \n",
      " iteration : 700\n",
      " cost : 0.2594194355610118\n",
      " train accuracy : 92.34449760765551\n",
      " test accuracy : 68.0\n",
      " *************************** \n",
      " iteration : 800\n",
      " cost : 0.23510505480219226\n",
      " train accuracy : 93.77990430622009\n",
      " test accuracy : 72.0\n",
      " *************************** \n",
      " iteration : 900\n",
      " cost : 0.20216632376529917\n",
      " train accuracy : 93.30143540669856\n",
      " test accuracy : 66.0\n",
      " *************************** \n",
      " iteration : 1000\n",
      " cost : 0.18536040274118115\n",
      " train accuracy : 94.25837320574163\n",
      " test accuracy : 64.0\n",
      " *************************** \n",
      " iteration : 1100\n",
      " cost : 0.17057225747029442\n",
      " train accuracy : 97.1291866028708\n",
      " test accuracy : 72.0\n",
      " *************************** \n",
      " iteration : 1200\n",
      " cost : 0.14846577108909434\n",
      " train accuracy : 98.08612440191388\n",
      " test accuracy : 66.0\n",
      " *************************** \n",
      " iteration : 1300\n",
      " cost : 0.134825510462971\n",
      " train accuracy : 98.56459330143541\n",
      " test accuracy : 66.0\n",
      " *************************** \n",
      " iteration : 1400\n",
      " cost : 0.1231002599912525\n",
      " train accuracy : 98.56459330143541\n",
      " test accuracy : 66.0\n",
      " *************************** \n",
      " iteration : 1500\n",
      " cost : 0.11280106189254673\n",
      " train accuracy : 98.56459330143541\n",
      " test accuracy : 66.0\n",
      " *************************** \n",
      " iteration : 1600\n",
      " cost : 0.10365437475113039\n",
      " train accuracy : 99.52153110047847\n",
      " test accuracy : 68.0\n",
      " *************************** \n",
      " iteration : 1700\n",
      " cost : 0.09550527320544538\n",
      " train accuracy : 99.52153110047847\n",
      " test accuracy : 68.0\n",
      " *************************** \n",
      " iteration : 1800\n",
      " cost : 0.08822137479861017\n",
      " train accuracy : 99.52153110047847\n",
      " test accuracy : 66.0\n",
      " *************************** \n",
      " iteration : 1900\n",
      " cost : 0.08173248813372476\n",
      " train accuracy : 99.52153110047847\n",
      " test accuracy : 68.0\n",
      " *************************** \n",
      " iteration : 2000\n",
      " cost : 0.0760388354071371\n",
      " train accuracy : 99.52153110047847\n",
      " test accuracy : 68.0\n",
      " *************************** \n",
      " iteration : 2100\n",
      " cost : 0.07085218878734975\n",
      " train accuracy : 99.52153110047847\n",
      " test accuracy : 68.0\n",
      " *************************** \n",
      " iteration : 2200\n",
      " cost : 0.0658210969857537\n",
      " train accuracy : 99.52153110047847\n",
      " test accuracy : 68.0\n",
      " *************************** \n",
      " iteration : 2300\n",
      " cost : 0.06027964573513626\n",
      " train accuracy : 99.52153110047847\n",
      " test accuracy : 68.0\n",
      " *************************** \n",
      " iteration : 2400\n",
      " cost : 0.055794696558679246\n",
      " train accuracy : 100.0\n",
      " test accuracy : 70.0\n",
      " *************************** \n",
      " iteration : 2500\n",
      " cost : 0.052238624402952516\n",
      " train accuracy : 100.0\n",
      " test accuracy : 68.0\n",
      " *************************** \n",
      " iteration : 2600\n",
      " cost : 0.04917824437871135\n",
      " train accuracy : 100.0\n",
      " test accuracy : 68.0\n",
      " *************************** \n",
      " iteration : 2700\n",
      " cost : 0.046476627119891534\n",
      " train accuracy : 100.0\n",
      " test accuracy : 68.0\n",
      " *************************** \n",
      " iteration : 2800\n",
      " cost : 0.044057315613409004\n",
      " train accuracy : 100.0\n",
      " test accuracy : 68.0\n",
      " *************************** \n",
      " iteration : 2900\n",
      " cost : 0.04186167905745414\n",
      " train accuracy : 100.0\n",
      " test accuracy : 68.0\n",
      " *************************** \n"
     ]
    }
   ],
   "source": [
    "costs , acc_tr , acc_te = model_2.train(images_train_sm,labels_train , 2500,0.0075,images_test_sm,labels_test)"
   ]
  },
  {
   "cell_type": "code",
   "execution_count": 28,
   "metadata": {},
   "outputs": [
    {
     "data": {
      "text/plain": [
       "Text(0.5, 1.0, 'test_accuracy')"
      ]
     },
     "execution_count": 28,
     "metadata": {},
     "output_type": "execute_result"
    },
    {
     "data": {
      "image/png": "[encoded data removed]",
      "text/plain": [
       "<Figure size 640x480 with 3 Axes>"
      ]
     },
     "metadata": {},
     "output_type": "display_data"
    }
   ],
   "source": [
    "#costs , acc_tr , acc_te\n",
    "plt.Figure(figsize=(10,4))\n",
    "plt.subplot(1,3,1)\n",
    "plt.plot(costs)\n",
    "plt.title(\"costs\")\n",
    "plt.subplot(1,3,2)\n",
    "plt.plot(acc_tr)\n",
    "plt.title(\"train_accuracy\")\n",
    "plt.subplot(1,3,3)\n",
    "plt.plot(acc_te)\n",
    "plt.title(\"test_accuracy\")"
   ]
  },
  {
   "cell_type": "code",
   "execution_count": 29,
   "metadata": {
    "id": "Lcl-v1W60EPn"
   },
   "outputs": [],
   "source": [
    "model_3 = model(\"model_3_relu\",relu,sigmoid)"
   ]
  },
  {
   "cell_type": "code",
   "execution_count": 31,
   "metadata": {
    "colab": {
     "base_uri": "https://localhost:8080/"
    },
    "id": "LhiaIyFK0ELv",
    "outputId": "a231dfc7-ff51-4539-f148-05224731529d"
   },
   "outputs": [
    {
     "name": "stdout",
     "output_type": "stream",
     "text": [
      " iteration : 0\n",
      " cost : 0.07151500498729552\n",
      " train accuracy : 97.60765550239235\n",
      " test accuracy : 72.0\n",
      " *************************** \n",
      " iteration : 100\n",
      " cost : 0.06328701993239642\n",
      " train accuracy : 98.08612440191388\n",
      " test accuracy : 72.0\n",
      " *************************** \n",
      " iteration : 200\n",
      " cost : 0.05612176049226714\n",
      " train accuracy : 99.04306220095694\n",
      " test accuracy : 74.0\n",
      " *************************** \n",
      " iteration : 300\n",
      " cost : 0.049755723339635245\n",
      " train accuracy : 100.0\n",
      " test accuracy : 72.0\n",
      " *************************** \n",
      " iteration : 400\n",
      " cost : 0.044024224292914686\n",
      " train accuracy : 100.0\n",
      " test accuracy : 72.0\n",
      " *************************** \n",
      " iteration : 500\n",
      " cost : 0.03909361860360223\n",
      " train accuracy : 100.0\n",
      " test accuracy : 72.0\n",
      " *************************** \n",
      " iteration : 600\n",
      " cost : 0.034980945872679275\n",
      " train accuracy : 100.0\n",
      " test accuracy : 72.0\n",
      " *************************** \n",
      " iteration : 700\n",
      " cost : 0.0314548529868659\n",
      " train accuracy : 100.0\n",
      " test accuracy : 70.0\n",
      " *************************** \n",
      " iteration : 800\n",
      " cost : 0.028530127670198663\n",
      " train accuracy : 100.0\n",
      " test accuracy : 70.0\n",
      " *************************** \n",
      " iteration : 900\n",
      " cost : 0.025988825861744433\n",
      " train accuracy : 100.0\n",
      " test accuracy : 70.0\n",
      " *************************** \n",
      " iteration : 1000\n",
      " cost : 0.02384878142397027\n",
      " train accuracy : 100.0\n",
      " test accuracy : 70.0\n",
      " *************************** \n",
      " iteration : 1100\n",
      " cost : 0.02194581559638555\n",
      " train accuracy : 100.0\n",
      " test accuracy : 70.0\n",
      " *************************** \n",
      " iteration : 1200\n",
      " cost : 0.02029840925045098\n",
      " train accuracy : 100.0\n",
      " test accuracy : 70.0\n",
      " *************************** \n",
      " iteration : 1300\n",
      " cost : 0.018844980404317698\n",
      " train accuracy : 100.0\n",
      " test accuracy : 70.0\n",
      " *************************** \n",
      " iteration : 1400\n",
      " cost : 0.017565611016593687\n",
      " train accuracy : 100.0\n",
      " test accuracy : 70.0\n",
      " *************************** \n",
      " iteration : 1500\n",
      " cost : 0.01642883253399881\n",
      " train accuracy : 100.0\n",
      " test accuracy : 72.0\n",
      " *************************** \n",
      " iteration : 1600\n",
      " cost : 0.015410246912822912\n",
      " train accuracy : 100.0\n",
      " test accuracy : 72.0\n",
      " *************************** \n",
      " iteration : 1700\n",
      " cost : 0.01449915693709584\n",
      " train accuracy : 100.0\n",
      " test accuracy : 72.0\n",
      " *************************** \n",
      " iteration : 1800\n",
      " cost : 0.013670969930004712\n",
      " train accuracy : 100.0\n",
      " test accuracy : 72.0\n",
      " *************************** \n",
      " iteration : 1900\n",
      " cost : 0.012928518815605526\n",
      " train accuracy : 100.0\n",
      " test accuracy : 72.0\n",
      " *************************** \n",
      " iteration : 2000\n",
      " cost : 0.012249486311719264\n",
      " train accuracy : 100.0\n",
      " test accuracy : 72.0\n",
      " *************************** \n",
      " iteration : 2100\n",
      " cost : 0.011624665865358198\n",
      " train accuracy : 100.0\n",
      " test accuracy : 72.0\n",
      " *************************** \n",
      " iteration : 2200\n",
      " cost : 0.011057307518013862\n",
      " train accuracy : 100.0\n",
      " test accuracy : 72.0\n",
      " *************************** \n",
      " iteration : 2300\n",
      " cost : 0.010536796290863418\n",
      " train accuracy : 100.0\n",
      " test accuracy : 72.0\n",
      " *************************** \n",
      " iteration : 2400\n",
      " cost : 0.01005706806747414\n",
      " train accuracy : 100.0\n",
      " test accuracy : 72.0\n",
      " *************************** \n"
     ]
    }
   ],
   "source": [
    "costs , acc_tr , acc_te = model_3.train(images_train_sm,labels_train , 2500,0.0075,images_test_sm,labels_test)"
   ]
  },
  {
   "cell_type": "code",
   "execution_count": 32,
   "metadata": {
    "id": "cDo5RG0H0EIV"
   },
   "outputs": [
    {
     "data": {
      "text/plain": [
       "Text(0.5, 1.0, 'test_accuracy')"
      ]
     },
     "execution_count": 32,
     "metadata": {},
     "output_type": "execute_result"
    },
    {
     "data": {
      "image/png": "[encoded data removed]",
      "text/plain": [
       "<Figure size 640x480 with 3 Axes>"
      ]
     },
     "metadata": {},
     "output_type": "display_data"
    }
   ],
   "source": [
    "plt.Figure(figsize=(16,4))\n",
    "plt.subplot(1,3,1)\n",
    "plt.plot(costs)\n",
    "plt.title(\"costs\")\n",
    "plt.subplot(1,3,2)\n",
    "plt.plot(acc_tr)\n",
    "plt.title(\"train_accuracy\")\n",
    "plt.subplot(1,3,3)\n",
    "plt.plot(acc_te)\n",
    "plt.title(\"test_accuracy\")"
   ]
  },
  {
   "cell_type": "code",
   "execution_count": 37,
   "metadata": {
    "id": "gYOz52Ju14it"
   },
   "outputs": [],
   "source": [
    "model_4 = model(\"model_3_relu\",leaky_relu,sigmoid)"
   ]
  },
  {
   "cell_type": "code",
   "execution_count": 38,
   "metadata": {
    "colab": {
     "base_uri": "https://localhost:8080/"
    },
    "id": "l2ETfCKh0EEs",
    "outputId": "1c65bbe6-8178-49c3-df20-7834d9a9a124"
   },
   "outputs": [
    {
     "name": "stdout",
     "output_type": "stream",
     "text": [
      " iteration : 0\n",
      " cost : 0.6813074818412457\n",
      " train accuracy : 65.55023923444976\n",
      " test accuracy : 34.0\n",
      " *************************** \n",
      " iteration : 100\n",
      " cost : 0.5249161191458773\n",
      " train accuracy : 73.20574162679426\n",
      " test accuracy : 44.0\n",
      " *************************** \n",
      " iteration : 200\n",
      " cost : 0.4800428389175607\n",
      " train accuracy : 83.73205741626795\n",
      " test accuracy : 70.0\n",
      " *************************** \n",
      " iteration : 300\n",
      " cost : 0.4457496371592839\n",
      " train accuracy : 85.64593301435407\n",
      " test accuracy : 82.0\n",
      " *************************** \n",
      " iteration : 400\n",
      " cost : 0.4035493429991567\n",
      " train accuracy : 88.51674641148325\n",
      " test accuracy : 84.0\n",
      " *************************** \n",
      " iteration : 500\n",
      " cost : 0.35797191786924665\n",
      " train accuracy : 89.47368421052632\n",
      " test accuracy : 82.0\n",
      " *************************** \n",
      " iteration : 600\n",
      " cost : 0.3143136877653665\n",
      " train accuracy : 91.86602870813397\n",
      " test accuracy : 82.0\n",
      " *************************** \n",
      " iteration : 700\n",
      " cost : 0.2752892634893948\n",
      " train accuracy : 93.77990430622009\n",
      " test accuracy : 82.0\n",
      " *************************** \n",
      " iteration : 800\n",
      " cost : 0.23299386821997253\n",
      " train accuracy : 94.73684210526315\n",
      " test accuracy : 82.0\n",
      " *************************** \n",
      " iteration : 900\n",
      " cost : 0.2608897289817431\n",
      " train accuracy : 92.34449760765551\n",
      " test accuracy : 82.0\n",
      " *************************** \n",
      " iteration : 1000\n",
      " cost : 0.29850742550352444\n",
      " train accuracy : 90.9090909090909\n",
      " test accuracy : 80.0\n",
      " *************************** \n",
      " iteration : 1100\n",
      " cost : 0.12061975659181964\n",
      " train accuracy : 99.04306220095694\n",
      " test accuracy : 80.0\n",
      " *************************** \n",
      " iteration : 1200\n",
      " cost : 0.09631947164687035\n",
      " train accuracy : 99.52153110047847\n",
      " test accuracy : 80.0\n",
      " *************************** \n",
      " iteration : 1300\n",
      " cost : 0.0827433660688803\n",
      " train accuracy : 99.52153110047847\n",
      " test accuracy : 80.0\n",
      " *************************** \n",
      " iteration : 1400\n",
      " cost : 0.07195983327330974\n",
      " train accuracy : 100.0\n",
      " test accuracy : 78.0\n",
      " *************************** \n",
      " iteration : 1500\n",
      " cost : 0.06405700359585763\n",
      " train accuracy : 100.0\n",
      " test accuracy : 74.0\n",
      " *************************** \n",
      " iteration : 1600\n",
      " cost : 0.05793089215707375\n",
      " train accuracy : 100.0\n",
      " test accuracy : 74.0\n",
      " *************************** \n",
      " iteration : 1700\n",
      " cost : 0.052909897330990226\n",
      " train accuracy : 100.0\n",
      " test accuracy : 74.0\n",
      " *************************** \n",
      " iteration : 1800\n",
      " cost : 0.048767250168509094\n",
      " train accuracy : 100.0\n",
      " test accuracy : 74.0\n",
      " *************************** \n",
      " iteration : 1900\n",
      " cost : 0.04523110291588434\n",
      " train accuracy : 100.0\n",
      " test accuracy : 72.0\n",
      " *************************** \n",
      " iteration : 2000\n",
      " cost : 0.04229103572502631\n",
      " train accuracy : 100.0\n",
      " test accuracy : 74.0\n",
      " *************************** \n",
      " iteration : 2100\n",
      " cost : 0.03974384914934213\n",
      " train accuracy : 100.0\n",
      " test accuracy : 70.0\n",
      " *************************** \n",
      " iteration : 2200\n",
      " cost : 0.03756711211446648\n",
      " train accuracy : 100.0\n",
      " test accuracy : 70.0\n",
      " *************************** \n",
      " iteration : 2300\n",
      " cost : 0.035669757646389855\n",
      " train accuracy : 100.0\n",
      " test accuracy : 72.0\n",
      " *************************** \n",
      " iteration : 2400\n",
      " cost : 0.03407798147504789\n",
      " train accuracy : 100.0\n",
      " test accuracy : 70.0\n",
      " *************************** \n"
     ]
    }
   ],
   "source": [
    "costs , acc_tr , acc_te = model_4.train(images_train_sm,labels_train , 2500,0.0075,images_test_sm,labels_test)"
   ]
  },
  {
   "cell_type": "code",
   "execution_count": 39,
   "metadata": {},
   "outputs": [
    {
     "data": {
      "text/plain": [
       "Text(0.5, 1.0, 'test_accuracy')"
      ]
     },
     "execution_count": 39,
     "metadata": {},
     "output_type": "execute_result"
    },
    {
     "data": {
      "image/png": "[encoded data removed]",
      "text/plain": [
       "<Figure size 640x480 with 3 Axes>"
      ]
     },
     "metadata": {},
     "output_type": "display_data"
    }
   ],
   "source": [
    "plt.Figure(figsize=(10,4))\n",
    "plt.subplot(1,3,1)\n",
    "plt.plot(costs)\n",
    "plt.title(\"costs\")\n",
    "plt.subplot(1,3,2)\n",
    "plt.plot(acc_tr)\n",
    "plt.title(\"train_accuracy\")\n",
    "plt.subplot(1,3,3)\n",
    "plt.plot(acc_te)\n",
    "plt.title(\"test_accuracy\")"
   ]
  },
  {
   "cell_type": "markdown",
   "metadata": {
    "id": "39PGCOh72T5F"
   },
   "source": [
    "i dont now why but this show a very bad result from shalow neural net work . maybe i handle it very bad or maybe this is the real reasult . i try to use keras next time for check that is my implemetation is good one or not"
   ]
  },
  {
   "cell_type": "markdown",
   "metadata": {
    "id": "UivMcPsZ3BVK"
   },
   "source": [
    "after implement code with tensorflow we find out this manual code has problem :\n",
    "- some of formula in backpropagation isn't working beacuse they dont suppurt matrix form corectly\n",
    "- these formula doesnt handle devide by zero "
   ]
  },
  {
   "cell_type": "markdown",
   "metadata": {},
   "source": [
    "- 2/15/2024 10:20 \n",
    "- we complete and corect this implemetation and it has a very good result so\n",
    "- the above text isnt wright from this time "
   ]
  },
  {
   "cell_type": "markdown",
   "metadata": {},
   "source": [
    "# evaluating"
   ]
  },
  {
   "cell_type": "markdown",
   "metadata": {},
   "source": [
    "## first cat "
   ]
  },
  {
   "cell_type": "code",
   "execution_count": 41,
   "metadata": {},
   "outputs": [
    {
     "data": {
      "text/plain": [
       "(-0.5, 63.5, 63.5, -0.5)"
      ]
     },
     "execution_count": 41,
     "metadata": {},
     "output_type": "execute_result"
    },
    {
     "data": {
      "image/png": "[encoded data removed]",
      "text/plain": [
       "<Figure size 640x480 with 1 Axes>"
      ]
     },
     "metadata": {},
     "output_type": "display_data"
    }
   ],
   "source": [
    "png = Image.open(\"images_/cat_2.png\")\n",
    "png.load()\n",
    "# convert an RGBA to RGB \n",
    "background = Image.new(\"RGB\", png.size, (255, 255, 255))\n",
    "background.paste(png, mask=png.split()[3]) # 3 is the alpha channel\n",
    "background.save('foo.jpg', 'JPEG', quality=80)\n",
    "image = background.resize((64,64))\n",
    "array = np.array(image)#.T.reshape(-1,1)\n",
    "plt.imshow(array)\n",
    "plt.axis(\"off\")\n"
   ]
  },
  {
   "cell_type": "code",
   "execution_count": 44,
   "metadata": {},
   "outputs": [],
   "source": [
    "input_array = array.T.reshape(12288,1)"
   ]
  },
  {
   "cell_type": "code",
   "execution_count": 45,
   "metadata": {},
   "outputs": [
    {
     "data": {
      "text/plain": [
       "array([[0.6979229]])"
      ]
     },
     "execution_count": 45,
     "metadata": {},
     "output_type": "execute_result"
    }
   ],
   "source": [
    "model_1.predict(input_array,True)"
   ]
  },
  {
   "cell_type": "code",
   "execution_count": 46,
   "metadata": {},
   "outputs": [
    {
     "data": {
      "text/plain": [
       "array([[0.01037731]])"
      ]
     },
     "execution_count": 46,
     "metadata": {},
     "output_type": "execute_result"
    }
   ],
   "source": [
    "model_2.predict(input_array,True)\n"
   ]
  },
  {
   "cell_type": "code",
   "execution_count": 57,
   "metadata": {},
   "outputs": [
    {
     "data": {
      "text/plain": [
       "array([[1.]])"
      ]
     },
     "execution_count": 57,
     "metadata": {},
     "output_type": "execute_result"
    }
   ],
   "source": [
    "model_3.predict(input_array,True)\n"
   ]
  },
  {
   "cell_type": "code",
   "execution_count": 48,
   "metadata": {},
   "outputs": [
    {
     "data": {
      "text/plain": [
       "array([[1.36659777e-96]])"
      ]
     },
     "execution_count": 48,
     "metadata": {},
     "output_type": "execute_result"
    }
   ],
   "source": [
    "model_4.predict(input_array,True)\n"
   ]
  },
  {
   "cell_type": "markdown",
   "metadata": {},
   "source": [
    "- as you can see model1 and model3 work better than other"
   ]
  },
  {
   "cell_type": "markdown",
   "metadata": {},
   "source": [
    "## second cat "
   ]
  },
  {
   "cell_type": "code",
   "execution_count": 50,
   "metadata": {},
   "outputs": [
    {
     "data": {
      "text/plain": [
       "(-0.5, 63.5, 63.5, -0.5)"
      ]
     },
     "execution_count": 50,
     "metadata": {},
     "output_type": "execute_result"
    },
    {
     "data": {
      "image/png": "[encoded data removed]",
      "text/plain": [
       "<Figure size 640x480 with 1 Axes>"
      ]
     },
     "metadata": {},
     "output_type": "display_data"
    }
   ],
   "source": [
    "png = Image.open(\"images_/cat_5.png\")\n",
    "png.load()\n",
    "# convert an RGBA to RGB \n",
    "background = Image.new(\"RGB\", png.size, (255, 255, 255))\n",
    "background.paste(png, mask=png.split()[3]) # 3 is the alpha channel\n",
    "background.save('foo.jpg', 'JPEG', quality=80)\n",
    "image = background.resize((64,64))\n",
    "array = np.array(image)#.T.reshape(-1,1)\n",
    "plt.imshow(array)\n",
    "plt.axis(\"off\")"
   ]
  },
  {
   "cell_type": "code",
   "execution_count": 51,
   "metadata": {},
   "outputs": [],
   "source": [
    "input_array = array.T.reshape(12288,1)"
   ]
  },
  {
   "cell_type": "code",
   "execution_count": 59,
   "metadata": {},
   "outputs": [
    {
     "name": "stderr",
     "output_type": "stream",
     "text": [
      "C:\\Users\\ARMA\\AppData\\Local\\Temp\\ipykernel_7188\\2116219806.py:4: RuntimeWarning: overflow encountered in exp\n",
      "  A = (1/(1+np.exp(-x)))\n"
     ]
    },
    {
     "data": {
      "text/plain": [
       "array([[0.6979229]])"
      ]
     },
     "execution_count": 59,
     "metadata": {},
     "output_type": "execute_result"
    }
   ],
   "source": [
    "model_1.predict(input_array,True)"
   ]
  },
  {
   "cell_type": "markdown",
   "metadata": {},
   "source": [
    "i try to handele this warning with np.float128 and this work for another one but this isnt work for above case . maybe later i come back and fix it "
   ]
  },
  {
   "cell_type": "code",
   "execution_count": 53,
   "metadata": {},
   "outputs": [
    {
     "data": {
      "text/plain": [
       "array([[0.98944691]])"
      ]
     },
     "execution_count": 53,
     "metadata": {},
     "output_type": "execute_result"
    }
   ],
   "source": [
    "model_2.predict(input_array,True)"
   ]
  },
  {
   "cell_type": "code",
   "execution_count": 60,
   "metadata": {},
   "outputs": [
    {
     "data": {
      "text/plain": [
       "array([[1.]])"
      ]
     },
     "execution_count": 60,
     "metadata": {},
     "output_type": "execute_result"
    }
   ],
   "source": [
    "model_3.predict(input_array,True)"
   ]
  },
  {
   "cell_type": "code",
   "execution_count": 55,
   "metadata": {},
   "outputs": [
    {
     "data": {
      "text/plain": [
       "array([[5.65956286e-194]])"
      ]
     },
     "execution_count": 55,
     "metadata": {},
     "output_type": "execute_result"
    }
   ],
   "source": [
    "model_4.predict(input_array,True)"
   ]
  },
  {
   "cell_type": "markdown",
   "metadata": {},
   "source": [
    "- in this part model_2 and model_3 work better "
   ]
  },
  {
   "cell_type": "markdown",
   "metadata": {},
   "source": [
    "i feel model 3 is a little suspicious and maybee i check it later "
   ]
  },
  {
   "cell_type": "markdown",
   "metadata": {},
   "source": []
  }
 ],
 "metadata": {
  "accelerator": "GPU",
  "colab": {
   "gpuType": "T4",
   "provenance": []
  },
  "kernelspec": {
   "display_name": "Python 3 (ipykernel)",
   "language": "python",
   "name": "python3"
  },
  "language_info": {
   "codemirror_mode": {
    "name": "ipython",
    "version": 3
   },
   "file_extension": ".py",
   "mimetype": "text/x-python",
   "name": "python",
   "nbconvert_exporter": "python",
   "pygments_lexer": "ipython3",
   "version": "3.9.13"
  }
 },
 "nbformat": 4,
 "nbformat_minor": 1
}
